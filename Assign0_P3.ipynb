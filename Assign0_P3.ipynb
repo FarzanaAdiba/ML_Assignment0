{
  "nbformat": 4,
  "nbformat_minor": 0,
  "metadata": {
    "colab": {
      "provenance": [],
      "authorship_tag": "ABX9TyPy42kLFzUB7B19RKe/crll",
      "include_colab_link": true
    },
    "kernelspec": {
      "name": "python3",
      "display_name": "Python 3"
    },
    "language_info": {
      "name": "python"
    }
  },
  "cells": [
    {
      "cell_type": "markdown",
      "metadata": {
        "id": "view-in-github",
        "colab_type": "text"
      },
      "source": [
        "<a href=\"https://colab.research.google.com/github/FarzanaAdiba/ML_Assignment0/blob/main/Assign0_P3.ipynb\" target=\"_parent\"><img src=\"https://colab.research.google.com/assets/colab-badge.svg\" alt=\"Open In Colab\"/></a>"
      ]
    },
    {
      "cell_type": "code",
      "execution_count": null,
      "metadata": {
        "id": "hETsg3KpI5sS"
      },
      "outputs": [],
      "source": [
        "import numpy as np\n",
        "a=np.array([[3,3],[4,2]])"
      ]
    },
    {
      "cell_type": "code",
      "source": [
        "b=np.array([[11.25],[10]])"
      ],
      "metadata": {
        "id": "kXJ6vLWwp9PS"
      },
      "execution_count": null,
      "outputs": []
    },
    {
      "cell_type": "code",
      "source": [
        "np.linalg.solve(a,b)"
      ],
      "metadata": {
        "colab": {
          "base_uri": "https://localhost:8080/"
        },
        "id": "dzBegu8_qIQN",
        "outputId": "e1ac0de8-b33b-4898-d8c3-1fb439d8ae6d"
      },
      "execution_count": null,
      "outputs": [
        {
          "output_type": "execute_result",
          "data": {
            "text/plain": [
              "array([[1.25],\n",
              "       [2.5 ]])"
            ]
          },
          "metadata": {},
          "execution_count": 8
        }
      ]
    },
    {
      "cell_type": "code",
      "source": [
        "f=3*1.25+3*2.5\n",
        "print(f)"
      ],
      "metadata": {
        "colab": {
          "base_uri": "https://localhost:8080/"
        },
        "id": "K-CdoDQis88D",
        "outputId": "636fa661-1d12-413a-8d61-5d4b20006fde"
      },
      "execution_count": null,
      "outputs": [
        {
          "output_type": "stream",
          "name": "stdout",
          "text": [
            "11.25\n"
          ]
        }
      ]
    }
  ]
}