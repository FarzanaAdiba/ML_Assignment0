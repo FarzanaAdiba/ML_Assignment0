{
  "nbformat": 4,
  "nbformat_minor": 0,
  "metadata": {
    "colab": {
      "provenance": [],
      "collapsed_sections": [],
      "authorship_tag": "ABX9TyMrqUDjUNlwa0YXNLATr4IW",
      "include_colab_link": true
    },
    "kernelspec": {
      "name": "python3",
      "display_name": "Python 3"
    },
    "language_info": {
      "name": "python"
    }
  },
  "cells": [
    {
      "cell_type": "markdown",
      "metadata": {
        "id": "view-in-github",
        "colab_type": "text"
      },
      "source": [
        "<a href=\"https://colab.research.google.com/github/FarzanaAdiba/ML_Assignment0/blob/main/Assign0_P1.ipynb\" target=\"_parent\"><img src=\"https://colab.research.google.com/assets/colab-badge.svg\" alt=\"Open In Colab\"/></a>"
      ]
    },
    {
      "cell_type": "code",
      "execution_count": 30,
      "metadata": {
        "id": "UEyoAbfmcMH0"
      },
      "outputs": [],
      "source": [
        "#file=\"test2.txt\""
      ]
    },
    {
      "cell_type": "code",
      "source": [
        "dict={}"
      ],
      "metadata": {
        "id": "ZT1NBAHygsIX"
      },
      "execution_count": 31,
      "outputs": []
    },
    {
      "cell_type": "code",
      "source": [
        "with open('/content/test.txt') as f:\n",
        "  for sentence in f:\n",
        "    for letter in sentence:\n",
        "      letter=letter.lower()\n",
        "      if letter.isalpha():\n",
        "            if letter in dict.keys():\n",
        "                dict[letter]+= 1\n",
        "            else:\n",
        "                dict[letter] =1\n",
        "print(dict)"
      ],
      "metadata": {
        "colab": {
          "base_uri": "https://localhost:8080/"
        },
        "id": "NINj3Slcgw4C",
        "outputId": "2edbddfe-1b43-4186-badc-1a11021b2a4b"
      },
      "execution_count": 32,
      "outputs": [
        {
          "output_type": "stream",
          "name": "stdout",
          "text": [
            "{'t': 36, 'h': 25, 'e': 63, 'q': 22, 'u': 38, 'i': 56, 'c': 23, 'k': 22, 'b': 24, 'r': 40, 'o': 50, 'w': 22, 'n': 28, 'f': 22, 'x': 22, 'j': 23, 'm': 22, 'p': 25, 's': 25, 'v': 22, 'a': 44, 'l': 26, 'z': 23, 'y': 27, 'd': 30, 'g': 23}\n"
          ]
        }
      ]
    },
    {
      "cell_type": "code",
      "source": [
        "from typing_extensions import OrderedDict\n",
        "#sort_dictionary= OrderedDict(sorted(dict.items(), key=lambda item: item[0])) \n",
        "sort_dictionary= sorted(dict.items(), key=lambda item: item[0])\n",
        "print(sort_dictionary)"
      ],
      "metadata": {
        "colab": {
          "base_uri": "https://localhost:8080/"
        },
        "id": "SxMht8eTs5Wc",
        "outputId": "8e9d6690-8133-4046-b7be-9c586ad51720"
      },
      "execution_count": 33,
      "outputs": [
        {
          "output_type": "stream",
          "name": "stdout",
          "text": [
            "[('a', 44), ('b', 24), ('c', 23), ('d', 30), ('e', 63), ('f', 22), ('g', 23), ('h', 25), ('i', 56), ('j', 23), ('k', 22), ('l', 26), ('m', 22), ('n', 28), ('o', 50), ('p', 25), ('q', 22), ('r', 40), ('s', 25), ('t', 36), ('u', 38), ('v', 22), ('w', 22), ('x', 22), ('y', 27), ('z', 23)]\n"
          ]
        }
      ]
    },
    {
      "cell_type": "code",
      "source": [
        "from matplotlib import pyplot as plt\n",
        "plt.hist(sort_dictionary)"
      ],
      "metadata": {
        "colab": {
          "base_uri": "https://localhost:8080/",
          "height": 751
        },
        "id": "DIdgiLbg4mfr",
        "outputId": "96453f20-f797-4fb0-dd57-cb3a8bdef0f2"
      },
      "execution_count": 34,
      "outputs": [
        {
          "output_type": "execute_result",
          "data": {
            "text/plain": [
              "(array([[2., 0., 0., 0., 0., 0., 0., 0., 0., 0.],\n",
              "        [2., 0., 0., 0., 0., 0., 0., 0., 0., 0.],\n",
              "        [0., 2., 0., 0., 0., 0., 0., 0., 0., 0.],\n",
              "        [0., 2., 0., 0., 0., 0., 0., 0., 0., 0.],\n",
              "        [0., 0., 2., 0., 0., 0., 0., 0., 0., 0.],\n",
              "        [0., 0., 2., 0., 0., 0., 0., 0., 0., 0.],\n",
              "        [0., 1., 0., 1., 0., 0., 0., 0., 0., 0.],\n",
              "        [0., 0., 0., 2., 0., 0., 0., 0., 0., 0.],\n",
              "        [0., 0., 0., 1., 1., 0., 0., 0., 0., 0.],\n",
              "        [0., 1., 0., 0., 1., 0., 0., 0., 0., 0.],\n",
              "        [0., 0., 1., 0., 1., 0., 0., 0., 0., 0.],\n",
              "        [0., 0., 0., 0., 1., 1., 0., 0., 0., 0.],\n",
              "        [0., 0., 1., 0., 0., 1., 0., 0., 0., 0.],\n",
              "        [0., 0., 0., 0., 0., 2., 0., 0., 0., 0.],\n",
              "        [0., 0., 0., 0., 0., 0., 2., 0., 0., 0.],\n",
              "        [0., 0., 0., 1., 0., 0., 1., 0., 0., 0.],\n",
              "        [0., 0., 1., 0., 0., 0., 1., 0., 0., 0.],\n",
              "        [0., 0., 0., 0., 0., 0., 0., 2., 0., 0.],\n",
              "        [0., 0., 0., 1., 0., 0., 0., 1., 0., 0.],\n",
              "        [0., 0., 0., 0., 0., 0., 0., 1., 1., 0.],\n",
              "        [0., 0., 0., 0., 0., 0., 0., 0., 2., 0.],\n",
              "        [0., 0., 1., 0., 0., 0., 0., 0., 1., 0.],\n",
              "        [0., 0., 1., 0., 0., 0., 0., 0., 0., 1.],\n",
              "        [0., 0., 1., 0., 0., 0., 0., 0., 0., 1.],\n",
              "        [0., 0., 0., 0., 0., 0., 0., 0., 0., 2.],\n",
              "        [0., 1., 0., 0., 0., 0., 0., 0., 0., 1.]]),\n",
              " array([ 0.,  4.,  8., 12., 16., 20., 24., 28., 32., 36., 40.]),\n",
              " <a list of 26 Lists of Patches objects>)"
            ]
          },
          "metadata": {},
          "execution_count": 34
        },
        {
          "output_type": "display_data",
          "data": {
            "text/plain": [
              "<Figure size 432x288 with 1 Axes>"
            ],
            "image/png": "[encoded data removed]"
          },
          "metadata": {
            "needs_background": "light"
          }
        }
      ]
    }
  ]
}